{
 "cells": [
  {
   "cell_type": "code",
   "execution_count": 1,
   "metadata": {
    "collapsed": true
   },
   "outputs": [],
   "source": [
    "Eng_Spa = {\n",
    "    \"hello\":\"hola\",\n",
    "    \"goodbye\":\"adios\",\n",
    "    \"home\":\"casa\"\n",
    "}"
   ]
  },
  {
   "cell_type": "code",
   "execution_count": 2,
   "metadata": {},
   "outputs": [
    {
     "data": {
      "text/plain": [
       "'hola'"
      ]
     },
     "execution_count": 2,
     "metadata": {},
     "output_type": "execute_result"
    }
   ],
   "source": [
    "Eng_Spa[\"hello\"]"
   ]
  },
  {
   "cell_type": "code",
   "execution_count": 4,
   "metadata": {},
   "outputs": [
    {
     "data": {
      "text/plain": [
       "'casa'"
      ]
     },
     "execution_count": 4,
     "metadata": {},
     "output_type": "execute_result"
    }
   ],
   "source": [
    "Eng_Spa[\"home\"]"
   ]
  },
  {
   "cell_type": "code",
   "execution_count": 5,
   "metadata": {
    "collapsed": true
   },
   "outputs": [],
   "source": [
    "Eng_Swa = {\n",
    "    \"hello\":\"habari\",\n",
    "    \"goodbye\":\"kwaheri\",\n",
    "    \"home\":\"nyumbani\"\n",
    "}"
   ]
  },
  {
   "cell_type": "code",
   "execution_count": 6,
   "metadata": {
    "collapsed": true
   },
   "outputs": [],
   "source": [
    "Eng_Fra = {\n",
    "    \"hello\":\"bonjour\",\n",
    "    \"goodbye\":\"au revoir\",\n",
    "    \"home\":\"maison\"\n",
    "}"
   ]
  },
  {
   "cell_type": "code",
   "execution_count": 7,
   "metadata": {
    "collapsed": true
   },
   "outputs": [],
   "source": [
    "translation_dictionaries = {}\n",
    "translation_dictionaries[\"English-Spanish\"] = Eng_Spa\n",
    "translation_dictionaries[\"English-Swahili\"] = Eng_Swa\n",
    "translation_dictionaries[\"English-French\"] = Eng_Fra"
   ]
  },
  {
   "cell_type": "code",
   "execution_count": 8,
   "metadata": {},
   "outputs": [
    {
     "data": {
      "text/plain": [
       "{'goodbye': 'kwaheri', 'hello': 'habari', 'home': 'nyumbani'}"
      ]
     },
     "execution_count": 8,
     "metadata": {},
     "output_type": "execute_result"
    }
   ],
   "source": [
    "translation_dictionaries[\"English-Swahili\"]"
   ]
  },
  {
   "cell_type": "code",
   "execution_count": 9,
   "metadata": {},
   "outputs": [
    {
     "data": {
      "text/plain": [
       "'kwaheri'"
      ]
     },
     "execution_count": 9,
     "metadata": {},
     "output_type": "execute_result"
    }
   ],
   "source": [
    "translation_dictionaries[\"English-Swahili\"][\"goodbye\"]"
   ]
  },
  {
   "cell_type": "code",
   "execution_count": 8,
   "metadata": {
    "collapsed": true
   },
   "outputs": [],
   "source": [
    "translation_dictionaries = {\n",
    "    \"English-Spanish\" : {\n",
    "        \"hello\":\"hola\",\n",
    "        \"goodbye\":\"adios\",\n",
    "        \"home\":\"casa\"\n",
    "    },\n",
    "\n",
    "    \"English-Swahili\" : {\n",
    "        \"hello\":\"habari\",\n",
    "        \"goodbye\":\"kwaheri\",\n",
    "        \"home\":\"nyumbani\"\n",
    "    },\n",
    "\n",
    "    \"English-French\" : {\n",
    "        \"hello\":\"bonjour\",\n",
    "        \"goodbye\":\"au revoir\",\n",
    "        \"home\":\"maison\"\n",
    "    }\n",
    "}"
   ]
  },
  {
   "cell_type": "code",
   "execution_count": 10,
   "metadata": {},
   "outputs": [
    {
     "data": {
      "text/plain": [
       "'maison'"
      ]
     },
     "execution_count": 10,
     "metadata": {},
     "output_type": "execute_result"
    }
   ],
   "source": [
    "translation_dictionaries[\"English-French\"][\"home\"]"
   ]
  },
  {
   "cell_type": "code",
   "execution_count": 11,
   "metadata": {
    "collapsed": true
   },
   "outputs": [],
   "source": [
    "list_of_fruit_held_by_day = [\n",
    "    {\n",
    "        \"apples\":3,\n",
    "         \"pears\":0\n",
    "    },\n",
    "    {\n",
    "        \"apples\":4,\n",
    "         \"pears\":0\n",
    "    },\n",
    "    {\n",
    "        \"apples\":8,\n",
    "        \"pears\":0\n",
    "    }\n",
    "]\n"
   ]
  },
  {
   "cell_type": "code",
   "execution_count": 12,
   "metadata": {},
   "outputs": [
    {
     "data": {
      "text/plain": [
       "8"
      ]
     },
     "execution_count": 12,
     "metadata": {},
     "output_type": "execute_result"
    }
   ],
   "source": [
    "list_of_fruit_held_by_day[2][\"apples\"]"
   ]
  },
  {
   "cell_type": "code",
   "execution_count": null,
   "metadata": {
    "collapsed": true
   },
   "outputs": [],
   "source": []
  }
 ],
 "metadata": {
  "kernelspec": {
   "display_name": "Python 3",
   "language": "python",
   "name": "python3"
  },
  "language_info": {
   "codemirror_mode": {
    "name": "ipython",
    "version": 3
   },
   "file_extension": ".py",
   "mimetype": "text/x-python",
   "name": "python",
   "nbconvert_exporter": "python",
   "pygments_lexer": "ipython3",
   "version": "3.6.5"
  }
 },
 "nbformat": 4,
 "nbformat_minor": 2
}
